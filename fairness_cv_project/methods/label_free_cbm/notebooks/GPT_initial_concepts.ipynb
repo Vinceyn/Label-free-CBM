{
 "cells": [
  {
   "cell_type": "code",
   "execution_count": 1,
   "id": "3d51a857-7a96-4ebc-91b2-073a84ccfa52",
   "metadata": {},
   "outputs": [],
   "source": [
    "import sys\n",
    "sys.path.append(\"/home/gridsan/vyuan/.local/lib/python3.9/site-packages\")\n",
    "sys.path.append(\"../src\")"
   ]
  },
  {
   "cell_type": "code",
   "execution_count": 2,
   "id": "6018f18e-78b8-42e4-8d33-265b5beafde7",
   "metadata": {},
   "outputs": [],
   "source": [
    "import os\n",
    "import json\n",
    "from pathlib import Path\n",
    "\n",
    "import openai\n",
    "\n",
    "from utils import data_utils\n",
    "\n",
    "root = Path.cwd().parent.parent"
   ]
  },
  {
   "cell_type": "code",
   "execution_count": 52,
   "id": "0c9685d3-f88b-4aaa-9f0a-e31504910400",
   "metadata": {},
   "outputs": [],
   "source": [
    "dataset = \"doctor_nurse\"\n",
    "prompt_type = \"important\""
   ]
  },
  {
   "cell_type": "code",
   "execution_count": 53,
   "id": "aa4309fd-ee0b-4c84-9706-4c5a3e47654d",
   "metadata": {},
   "outputs": [],
   "source": [
    "openai.api_key = open(os.path.join(os.path.expanduser(\"~\"), \".openai_api_key\"), \"r\").read()[:-1]"
   ]
  },
  {
   "cell_type": "code",
   "execution_count": 54,
   "id": "a6fd600a-a7f0-4488-9360-09238b1a9305",
   "metadata": {},
   "outputs": [],
   "source": [
    "prompts = {\n",
    "    \"important\" : \"List the most important features for recognizing something as a \\\"goldfish\\\":\\n\\n-bright orange color\\n-a small, round body\\n-a long, flowing tail\\n-a small mouth\\n-orange fins\\n\\nList the most important features for recognizing something as a \\\"beerglass\\\":\\n\\n-a tall, cylindrical shape\\n-clear or translucent color\\n-opening at the top\\n-a sturdy base\\n-a handle\\n\\nList the most important features for recognizing something as a \\\"{}\\\":\",\n",
    "    \"superclass\" : \"Give superclasses for the word \\\"tench\\\":\\n\\n-fish\\n-vertebrate\\n-animal\\n\\nGive superclasses for the word \\\"beer glass\\\":\\n\\n-glass\\n-container\\n-object\\n\\nGive superclasses for the word \\\"{}\\\":\",\n",
    "    \"around\" : \"List the things most commonly seen around a \\\"tench\\\":\\n\\n- a pond\\n-fish\\n-a net\\n-a rod\\n-a reel\\n-a hook\\n-bait\\n\\nList the things most commonly seen around a \\\"beer glass\\\":\\n\\n- beer\\n-a bar\\n-a coaster\\n-a napkin\\n-a straw\\n-a lime\\n-a person\\n\\nList the things most commonly seen around a \\\"{}\\\":\",\n",
    "    \"job\": \"List the things commonly seen around a \\\"teacher\\\":\\n\\n- a classroom\\n-a desk\\n-a chalkboard\\n-a book\\n-a student\\n-a pencil\\n-a pen\\n\\nList the things commonly seen around a \\\"software engineer\\\":\\n\\n- a computer\\n-a desk\\n-a keyboard\\n-a mouse\\n-a monitor\\n-a chair\\n-a person\\n\\nList the things commonly seen around someone's working as a \\\"{}\\\":\",\n",
    "}\n",
    "\n",
    "\n",
    "base_prompt = prompts[prompt_type]"
   ]
  },
  {
   "cell_type": "code",
   "execution_count": 55,
   "id": "57ac8873-5b7f-4458-aef0-09278664b05a",
   "metadata": {},
   "outputs": [],
   "source": [
    "cls_file = data_utils.LABEL_FILES[dataset]\n",
    "with open(root / cls_file, \"r\") as f:\n",
    "    classes = f.read().split(\"\\n\")"
   ]
  },
  {
   "cell_type": "code",
   "execution_count": 56,
   "id": "05f19306-ecdd-4d5b-9556-d8b8b7930eac",
   "metadata": {},
   "outputs": [
    {
     "name": "stdout",
     "output_type": "stream",
     "text": [
      "\n",
      " 0 doctor\n",
      "{\n",
      "  \"choices\": [\n",
      "    {\n",
      "      \"finish_reason\": \"stop\",\n",
      "      \"index\": 0,\n",
      "      \"logprobs\": null,\n",
      "      \"text\": \"\\n\\n-a white coat\\n-a stethoscope\\n-a badge or ID\\n-a serious expression\\n-a medical degree\"\n",
      "    }\n",
      "  ],\n",
      "  \"created\": 1685949831,\n",
      "  \"id\": \"cmpl-7Nyr9DZzvT0vrxT4AHjQf4LAy5V5J\",\n",
      "  \"model\": \"text-davinci-002\",\n",
      "  \"object\": \"text_completion\",\n",
      "  \"usage\": {\n",
      "    \"completion_tokens\": 28,\n",
      "    \"prompt_tokens\": 105,\n",
      "    \"total_tokens\": 133\n",
      "  }\n",
      "}\n",
      "{\n",
      "  \"choices\": [\n",
      "    {\n",
      "      \"finish_reason\": \"stop\",\n",
      "      \"index\": 0,\n",
      "      \"logprobs\": null,\n",
      "      \"text\": \"\\n\\n-a white coat\\n-a stethoscope\\n-a name tag\\n-a badge\\n-a ID card\"\n",
      "    }\n",
      "  ],\n",
      "  \"created\": 1685949832,\n",
      "  \"id\": \"cmpl-7NyrAo5SndWA2wICbbikygfrM6dEX\",\n",
      "  \"model\": \"text-davinci-002\",\n",
      "  \"object\": \"text_completion\",\n",
      "  \"usage\": {\n",
      "    \"completion_tokens\": 26,\n",
      "    \"prompt_tokens\": 105,\n",
      "    \"total_tokens\": 131\n",
      "  }\n",
      "}\n",
      "\n",
      " 1 nurse\n",
      "{\n",
      "  \"choices\": [\n",
      "    {\n",
      "      \"finish_reason\": \"stop\",\n",
      "      \"index\": 0,\n",
      "      \"logprobs\": null,\n",
      "      \"text\": \"\\n\\n-wearing a white uniform\\n-wearing a name tag\\n-carrying a stethoscope\\n-wearing a badge\\n-wearing scrubs\"\n",
      "    }\n",
      "  ],\n",
      "  \"created\": 1685949833,\n",
      "  \"id\": \"cmpl-7NyrByEiZgzuORwazF1hodI3PaKvt\",\n",
      "  \"model\": \"text-davinci-002\",\n",
      "  \"object\": \"text_completion\",\n",
      "  \"usage\": {\n",
      "    \"completion_tokens\": 35,\n",
      "    \"prompt_tokens\": 106,\n",
      "    \"total_tokens\": 141\n",
      "  }\n",
      "}\n",
      "{\n",
      "  \"choices\": [\n",
      "    {\n",
      "      \"finish_reason\": \"stop\",\n",
      "      \"index\": 0,\n",
      "      \"logprobs\": null,\n",
      "      \"text\": \"\\n\\n-wearing a white uniform\\n-wearing a name tag\\n-carrying a stethoscope\\n-wearing a badge\\n-wearing scrubs\"\n",
      "    }\n",
      "  ],\n",
      "  \"created\": 1685949836,\n",
      "  \"id\": \"cmpl-7NyrErpwetvDjJiV4AXaZEMbsoqAT\",\n",
      "  \"model\": \"text-davinci-002\",\n",
      "  \"object\": \"text_completion\",\n",
      "  \"usage\": {\n",
      "    \"completion_tokens\": 35,\n",
      "    \"prompt_tokens\": 106,\n",
      "    \"total_tokens\": 141\n",
      "  }\n",
      "}\n"
     ]
    }
   ],
   "source": [
    "feature_dict = {}\n",
    "\n",
    "for i, label in enumerate(classes):\n",
    "    feature_dict[label] = set()\n",
    "    print(\"\\n\", i, label)\n",
    "    for _ in range(2):\n",
    "        response = openai.Completion.create(\n",
    "              model=\"text-davinci-002\",\n",
    "              prompt=base_prompt.format(label),\n",
    "              temperature=0.7,\n",
    "              max_tokens=256,\n",
    "              top_p=1,\n",
    "              frequency_penalty=0,\n",
    "              presence_penalty=0\n",
    "            )\n",
    "        #clean up responses\n",
    "        print(response)\n",
    "        features = response[\"choices\"][0][\"text\"]\n",
    "        features = features.split(\"\\n-\")\n",
    "        features = [feat.replace(\"\\n\", \"\") for feat in features]\n",
    "        features = [feat.strip() for feat in features]\n",
    "        features = [feat for feat in features if len(feat)>0]\n",
    "        features = set(features)\n",
    "        feature_dict[label].update(features)\n",
    "    feature_dict[label] = sorted(list(feature_dict[label]))"
   ]
  },
  {
   "cell_type": "code",
   "execution_count": 57,
   "id": "c033c81e-530b-4b62-967c-722f90636187",
   "metadata": {},
   "outputs": [],
   "source": [
    "json_object = json.dumps(feature_dict, indent=4)\n",
    "with open(root / \"data/concept_sets/gpt3_init/gpt3_{}_{}_new.json\".format(dataset, prompt_type), \"w\") as outfile:\n",
    "    outfile.write(json_object)"
   ]
  },
  {
   "cell_type": "code",
   "execution_count": null,
   "id": "3e2bf8bf",
   "metadata": {},
   "outputs": [],
   "source": []
  }
 ],
 "metadata": {
  "kernelspec": {
   "display_name": "Python 3 (ipykernel)",
   "language": "python",
   "name": "python3"
  },
  "language_info": {
   "codemirror_mode": {
    "name": "ipython",
    "version": 3
   },
   "file_extension": ".py",
   "mimetype": "text/x-python",
   "name": "python",
   "nbconvert_exporter": "python",
   "pygments_lexer": "ipython3",
   "version": "3.8.13"
  }
 },
 "nbformat": 4,
 "nbformat_minor": 5
}
