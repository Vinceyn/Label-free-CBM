{
 "cells": [
  {
   "cell_type": "markdown",
   "metadata": {},
   "source": [
    "# Exploratory\n",
    "\n",
    "This notebook is an exploration of the doctor-nurse dataset. It first takes a look at the images from different categories, then computes some basic statistics about the dataset bias."
   ]
  },
  {
   "cell_type": "code",
   "execution_count": 19,
   "metadata": {},
   "outputs": [],
   "source": [
    "%matplotlib inline\n",
    "import os\n",
    "import random\n",
    "import shutil\n",
    "from PIL import Image\n",
    "import numpy as np\n",
    "import matplotlib.pyplot as plt\n",
    "import matplotlib.figure as figure\n",
    "from IPython.display import clear_output\n",
    "import time\n",
    "from IPython.display import display\n",
    "import ipywidgets as widgets"
   ]
  },
  {
   "cell_type": "markdown",
   "metadata": {},
   "source": [
    "### Defines the location pathes of the dataset "
   ]
  },
  {
   "cell_type": "code",
   "execution_count": 20,
   "metadata": {},
   "outputs": [],
   "source": [
    "path_dr_f_d = 'dr/fem_dr_dark_56/'\n",
    "path_dr_f_l = 'dr/fem_dr_light_256/'\n",
    "path_dr_m_d = 'dr/mal_dr_dark_62/'\n",
    "path_dr_m_l = 'dr/mal_dr_light_308/'\n",
    "\n",
    "dr_f_d = os.listdir('dr/fem_dr_dark_56/')\n",
    "dr_f_l = os.listdir('dr/fem_dr_light_256/')\n",
    "dr_m_d = os.listdir('dr/mal_dr_dark_62/')\n",
    "dr_m_l = os.listdir('dr/mal_dr_light_308/')\n",
    "\n",
    "path_nur_f_d = 'nurse/fem_nurse_dark_63/'\n",
    "path_nur_f_l = 'nurse/fem_nurse_light_252/'\n",
    "path_nur_m_d = 'nurse/mal_nurse_dark_76/'\n",
    "path_nur_m_l = 'nurse/mal_nurse_light_203/'\n",
    "\n",
    "nur_f_d = os.listdir('nurse/fem_nurse_dark_63/')\n",
    "nur_f_l = os.listdir('nurse/fem_nurse_light_252/')\n",
    "nur_m_d = os.listdir('nurse/mal_nurse_dark_76/')\n",
    "nur_m_l = os.listdir('nurse/mal_nurse_light_203/')"
   ]
  },
  {
   "cell_type": "markdown",
   "metadata": {},
   "source": [
    "### Image display methods "
   ]
  },
  {
   "cell_type": "code",
   "execution_count": 21,
   "metadata": {},
   "outputs": [],
   "source": [
    "def show_button(i, path, imgs):\n",
    "    next_button = widgets.Button(description = 'Next')   \n",
    "    next_button.on_click(lambda arg: clicked(i, path, imgs))\n",
    "    display(next_button)\n",
    "\n",
    "\n",
    "def clicked(i, path, imgs):\n",
    "    i += 1\n",
    "    img_show(i, path, imgs)\n",
    "    show_button(i, path, imgs)\n",
    "\n",
    "\n",
    "def img_show(i, path, imgs):\n",
    "    clear_output(wait=True)\n",
    "    image = Image.open(path + imgs[i], \"r\")\n",
    "    plt.imshow(np.asarray(image))\n",
    "    plt.show()"
   ]
  },
  {
   "cell_type": "markdown",
   "metadata": {},
   "source": [
    "# Doctor dataset "
   ]
  },
  {
   "cell_type": "markdown",
   "metadata": {},
   "source": [
    "### White Male Doctor split"
   ]
  },
  {
   "cell_type": "code",
   "execution_count": 4,
   "metadata": {},
   "outputs": [
    {
     "data": {
      "application/vnd.jupyter.widget-view+json": {
       "model_id": "c8199ddf654146faa3b6bb07bc0aa6b5",
       "version_major": 2,
       "version_minor": 0
      },
      "text/plain": [
       "Button(description='Next', style=ButtonStyle())"
      ]
     },
     "metadata": {},
     "output_type": "display_data"
    }
   ],
   "source": [
    "show_button(0, path_dr_m_l, dr_m_l)"
   ]
  },
  {
   "cell_type": "markdown",
   "metadata": {},
   "source": [
    "### White Female Doctor split"
   ]
  },
  {
   "cell_type": "code",
   "execution_count": 5,
   "metadata": {
    "scrolled": true
   },
   "outputs": [
    {
     "data": {
      "application/vnd.jupyter.widget-view+json": {
       "model_id": "005f45c3175541b18ac4a4dae74e2a5c",
       "version_major": 2,
       "version_minor": 0
      },
      "text/plain": [
       "Button(description='Next', style=ButtonStyle())"
      ]
     },
     "metadata": {},
     "output_type": "display_data"
    }
   ],
   "source": [
    "show_button(0, path_dr_f_l, dr_f_l)"
   ]
  },
  {
   "cell_type": "markdown",
   "metadata": {},
   "source": [
    "### Dark Male Doctor split"
   ]
  },
  {
   "cell_type": "code",
   "execution_count": 6,
   "metadata": {},
   "outputs": [
    {
     "data": {
      "application/vnd.jupyter.widget-view+json": {
       "model_id": "a8480ca2cac64a6c85e77b8dc873ba34",
       "version_major": 2,
       "version_minor": 0
      },
      "text/plain": [
       "Button(description='Next', style=ButtonStyle())"
      ]
     },
     "metadata": {},
     "output_type": "display_data"
    }
   ],
   "source": [
    "show_button(0, path_dr_m_d, dr_m_d)"
   ]
  },
  {
   "cell_type": "markdown",
   "metadata": {},
   "source": [
    "### Dark Female Doctor split"
   ]
  },
  {
   "cell_type": "code",
   "execution_count": 7,
   "metadata": {},
   "outputs": [
    {
     "data": {
      "application/vnd.jupyter.widget-view+json": {
       "model_id": "6545b72a9db446709d63a130ed8d8e12",
       "version_major": 2,
       "version_minor": 0
      },
      "text/plain": [
       "Button(description='Next', style=ButtonStyle())"
      ]
     },
     "metadata": {},
     "output_type": "display_data"
    }
   ],
   "source": [
    "show_button(0, path_dr_f_d, dr_f_d)"
   ]
  },
  {
   "cell_type": "markdown",
   "metadata": {},
   "source": [
    "# Nurse Dataset "
   ]
  },
  {
   "cell_type": "markdown",
   "metadata": {},
   "source": [
    "### White Male Nurse split"
   ]
  },
  {
   "cell_type": "code",
   "execution_count": 8,
   "metadata": {},
   "outputs": [
    {
     "data": {
      "application/vnd.jupyter.widget-view+json": {
       "model_id": "06f11080ae374154a3c82995d6460c07",
       "version_major": 2,
       "version_minor": 0
      },
      "text/plain": [
       "Button(description='Next', style=ButtonStyle())"
      ]
     },
     "metadata": {},
     "output_type": "display_data"
    }
   ],
   "source": [
    "show_button(0, path_nur_m_l, nur_m_l)"
   ]
  },
  {
   "cell_type": "markdown",
   "metadata": {},
   "source": [
    "### Dark Male Nurse split"
   ]
  },
  {
   "cell_type": "code",
   "execution_count": 9,
   "metadata": {},
   "outputs": [
    {
     "data": {
      "application/vnd.jupyter.widget-view+json": {
       "model_id": "673e46351c0e4cbea60c9230e4ba1a0e",
       "version_major": 2,
       "version_minor": 0
      },
      "text/plain": [
       "Button(description='Next', style=ButtonStyle())"
      ]
     },
     "metadata": {},
     "output_type": "display_data"
    }
   ],
   "source": [
    "show_button(0, path_nur_m_d, nur_m_d)"
   ]
  },
  {
   "cell_type": "markdown",
   "metadata": {},
   "source": [
    "### White Female Nurse split"
   ]
  },
  {
   "cell_type": "code",
   "execution_count": 10,
   "metadata": {},
   "outputs": [
    {
     "data": {
      "application/vnd.jupyter.widget-view+json": {
       "model_id": "60020ee4315d449386ce775aad515926",
       "version_major": 2,
       "version_minor": 0
      },
      "text/plain": [
       "Button(description='Next', style=ButtonStyle())"
      ]
     },
     "metadata": {},
     "output_type": "display_data"
    }
   ],
   "source": [
    "show_button(0, path_nur_f_l, nur_f_l)"
   ]
  },
  {
   "cell_type": "markdown",
   "metadata": {},
   "source": [
    "### Dark Female Nurse split"
   ]
  },
  {
   "cell_type": "code",
   "execution_count": 11,
   "metadata": {},
   "outputs": [
    {
     "data": {
      "application/vnd.jupyter.widget-view+json": {
       "model_id": "4bcf8bff36d8455c8fd22cd7ab87df0e",
       "version_major": 2,
       "version_minor": 0
      },
      "text/plain": [
       "Button(description='Next', style=ButtonStyle())"
      ]
     },
     "metadata": {},
     "output_type": "display_data"
    }
   ],
   "source": [
    "show_button(0, path_nur_f_d, nur_f_d)"
   ]
  },
  {
   "cell_type": "markdown",
   "metadata": {},
   "source": [
    "# Statistics "
   ]
  },
  {
   "cell_type": "markdown",
   "metadata": {},
   "source": [
    "###  Gender as a protected attribute"
   ]
  },
  {
   "cell_type": "markdown",
   "metadata": {},
   "source": [
    "### Doctor dataset"
   ]
  },
  {
   "cell_type": "code",
   "execution_count": 23,
   "metadata": {},
   "outputs": [
    {
     "data": {
      "text/plain": [
       "262"
      ]
     },
     "execution_count": 23,
     "metadata": {},
     "output_type": "execute_result"
    }
   ],
   "source": [
    "nur_m"
   ]
  },
  {
   "cell_type": "code",
   "execution_count": 12,
   "metadata": {},
   "outputs": [
    {
     "name": "stdout",
     "output_type": "stream",
     "text": [
      "Proportions: 54.63% male and 45.37% female.\n"
     ]
    },
    {
     "data": {
      "image/png": "[encoded data removed]",
      "text/plain": [
       "<Figure size 432x288 with 1 Axes>"
      ]
     },
     "metadata": {
      "needs_background": "light"
     },
     "output_type": "display_data"
    }
   ],
   "source": [
    "fig, ax = plt.subplots()\n",
    "dr_m, dr_f = len(dr_m_d) + len(dr_m_l), len(dr_f_d) + len(dr_f_l)\n",
    "ax.bar([0,1], [dr_m, dr_f], tick_label=[\"Male\", \"Female\"])\n",
    "ax.set_title(\"Doctor dataset\")\n",
    "print(\"Proportions: {:.2f}% male and {:.2f}% female.\".format(dr_m/(dr_m + dr_f)*100, dr_f/(dr_m + dr_f)*100))"
   ]
  },
  {
   "cell_type": "markdown",
   "metadata": {},
   "source": [
    "### Nurse dataset"
   ]
  },
  {
   "cell_type": "code",
   "execution_count": 18,
   "metadata": {},
   "outputs": [
    {
     "data": {
      "text/plain": [
       "262"
      ]
     },
     "execution_count": 18,
     "metadata": {},
     "output_type": "execute_result"
    }
   ],
   "source": [
    "nur_m"
   ]
  },
  {
   "cell_type": "code",
   "execution_count": 13,
   "metadata": {},
   "outputs": [
    {
     "name": "stdout",
     "output_type": "stream",
     "text": [
      "Proportions: 47.04% male and 52.96% female.\n"
     ]
    },
    {
     "data": {
      "image/png": "[encoded data removed]",
      "text/plain": [
       "<Figure size 432x288 with 1 Axes>"
      ]
     },
     "metadata": {
      "needs_background": "light"
     },
     "output_type": "display_data"
    }
   ],
   "source": [
    "fig, ax = plt.subplots()\n",
    "nur_m, nur_f = len(nur_m_d) + len(nur_m_l), len(nur_f_d) + len(nur_f_l)\n",
    "ax.bar([0,1], [nur_m, nur_f], tick_label=[\"Male\", \"Female\"])\n",
    "ax.set_title(\"Nurse dataset\")\n",
    "print(\"Proportions: {:.2f}% male and {:.2f}% female.\".format(nur_m/(nur_m + nur_f)*100, nur_f/(nur_m + nur_f)*100))"
   ]
  },
  {
   "cell_type": "markdown",
   "metadata": {},
   "source": [
    "From these plots, we see that the female group is not under-represented in the dataset, but that the distribution of the protected attribute across the labels are different. This is a case of training data bias."
   ]
  },
  {
   "cell_type": "markdown",
   "metadata": {},
   "source": [
    "###  Skin color as a protected attribute"
   ]
  },
  {
   "cell_type": "markdown",
   "metadata": {},
   "source": [
    "### Doctor dataset"
   ]
  },
  {
   "cell_type": "code",
   "execution_count": 13,
   "metadata": {},
   "outputs": [
    {
     "name": "stdout",
     "output_type": "stream",
     "text": [
      "Proportions: 81.38% light skin and 18.62% dark skin.\n"
     ]
    },
    {
     "data": {
      "image/png": "[encoded data removed]",
      "text/plain": [
       "<Figure size 640x480 with 1 Axes>"
      ]
     },
     "metadata": {},
     "output_type": "display_data"
    }
   ],
   "source": [
    "fig, ax = plt.subplots()\n",
    "dr_l, dr_d = len(dr_m_l) + len(dr_f_l), len(dr_m_d) + len(dr_m_d)\n",
    "ax.bar([0,1], [dr_l, dr_d], tick_label=[\"Light\", \"Dark\"])\n",
    "ax.set_title(\"Doctor dataset\")\n",
    "print(\"Proportions: {:.2f}% light skin and {:.2f}% dark skin.\".format(dr_l/(dr_l + dr_d)*100, dr_d/(dr_l + dr_d)*100))"
   ]
  },
  {
   "cell_type": "markdown",
   "metadata": {},
   "source": [
    "### Nurse dataset"
   ]
  },
  {
   "cell_type": "code",
   "execution_count": 14,
   "metadata": {},
   "outputs": [
    {
     "name": "stdout",
     "output_type": "stream",
     "text": [
      "Proportions: 77.56% light skin and 22.44% dark skin.\n"
     ]
    },
    {
     "data": {
      "image/png": "[encoded data removed]",
      "text/plain": [
       "<Figure size 640x480 with 1 Axes>"
      ]
     },
     "metadata": {},
     "output_type": "display_data"
    }
   ],
   "source": [
    "fig, ax = plt.subplots()\n",
    "nur_l, nur_d = len(nur_m_l) + len(nur_f_l), len(nur_m_d) + len(nur_f_d)\n",
    "ax.bar([0,1], [nur_l, nur_d], tick_label=[\"Light\", \"Dark\"])\n",
    "ax.set_title(\"Nurse dataset\")\n",
    "print(\"Proportions: {:.2f}% light skin and {:.2f}% dark skin.\".format(nur_l/(nur_l + nur_d)*100, nur_d/(nur_l + nur_d)*100))"
   ]
  },
  {
   "cell_type": "markdown",
   "metadata": {},
   "source": [
    "From these plots, we see that the dark skin group is under-represented in the dataset,whereas the distribution of the protected attribute across the labels is quite stable. This is a case of overfitting bias."
   ]
  }
 ],
 "metadata": {
  "kernelspec": {
   "display_name": "Python 3 (ipykernel)",
   "language": "python",
   "name": "python3"
  },
  "language_info": {
   "codemirror_mode": {
    "name": "ipython",
    "version": 3
   },
   "file_extension": ".py",
   "mimetype": "text/x-python",
   "name": "python",
   "nbconvert_exporter": "python",
   "pygments_lexer": "ipython3",
   "version": "3.9.15"
  }
 },
 "nbformat": 4,
 "nbformat_minor": 4
}
