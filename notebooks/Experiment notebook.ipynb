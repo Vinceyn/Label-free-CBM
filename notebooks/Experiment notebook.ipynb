{
 "cells": [
  {
   "cell_type": "markdown",
   "id": "7a81e58d-b4b1-4eba-88cd-1e59e99c539a",
   "metadata": {},
   "source": [
    "# Experiment notebook\n",
    "\n",
    "The goal of this notebook is to help me understand the code"
   ]
  },
  {
   "cell_type": "code",
   "execution_count": 4,
   "id": "0c37ecd8-26e4-450d-a2be-17ec50c25686",
   "metadata": {},
   "outputs": [],
   "source": [
    "import torch\n",
    "\n",
    "from pathlib import Path"
   ]
  },
  {
   "cell_type": "code",
   "execution_count": 6,
   "id": "f974332b-b5c0-4a46-b1f1-9f781bde2c28",
   "metadata": {},
   "outputs": [],
   "source": [
    "path_project = Path.cwd().parent"
   ]
  },
  {
   "cell_type": "code",
   "execution_count": 13,
   "id": "e3e26dd0-562e-4ff8-a84c-ba37e227908e",
   "metadata": {},
   "outputs": [],
   "source": [
    "cifar10_train = torch.load(path_project / 'saved_activations' / 'cifar10_train_clip_ViT-B16.pt')"
   ]
  },
  {
   "cell_type": "code",
   "execution_count": 14,
   "id": "73eada2d-bd59-415b-b902-88bfaf968d0b",
   "metadata": {},
   "outputs": [
    {
     "data": {
      "text/plain": [
       "tensor([[ 0.9463, -1.0059,  0.0652,  ...,  0.1626,  0.3274,  0.1238],\n",
       "        [ 0.3059, -1.0889,  0.2622,  ...,  0.1592,  0.1692, -0.1399],\n",
       "        [-0.5308, -0.9502, -0.0834,  ..., -0.0948,  0.4077,  0.2019],\n",
       "        ...,\n",
       "        [ 0.0576, -0.8428, -0.0121,  ...,  0.0764,  0.2798,  0.1932],\n",
       "        [ 0.2832, -1.0420,  0.2834,  ..., -0.0435,  0.3884,  0.0175],\n",
       "        [ 0.3118, -0.5625, -0.0905,  ...,  0.2233,  0.2698,  0.3115]],\n",
       "       dtype=torch.float16)"
      ]
     },
     "execution_count": 14,
     "metadata": {},
     "output_type": "execute_result"
    }
   ],
   "source": [
    "cifar10_train"
   ]
  },
  {
   "cell_type": "code",
   "execution_count": 15,
   "id": "359dba7e-e322-4938-a403-3dc9344a6f93",
   "metadata": {},
   "outputs": [
    {
     "data": {
      "text/plain": [
       "torch.Size([50000, 512])"
      ]
     },
     "execution_count": 15,
     "metadata": {},
     "output_type": "execute_result"
    }
   ],
   "source": [
    "cifar10_train.shape"
   ]
  },
  {
   "cell_type": "code",
   "execution_count": 16,
   "id": "a77c5e31-3cb2-42ad-9b12-2f35bd13af2f",
   "metadata": {},
   "outputs": [],
   "source": [
    "proj_mean_cifar10 = torch.load(path_project / 'saved_models' / 'cifar10_cbm_2023_05_18_15_20' / 'proj_mean.pt')"
   ]
  },
  {
   "cell_type": "code",
   "execution_count": 17,
   "id": "d3274d51-42e6-4f85-b063-4ecdc337d2f4",
   "metadata": {},
   "outputs": [
    {
     "data": {
      "text/plain": [
       "tensor([[ 3.8148e-02,  1.2568e-02,  2.0734e-05, -1.2301e-02,  1.3764e-02,\n",
       "         -1.8385e-02, -2.8082e-03,  6.8393e-03,  4.5831e-03,  4.8934e-03,\n",
       "          5.3371e-03, -1.6746e-02, -2.2778e-02,  1.2209e-02, -5.6770e-03,\n",
       "          2.2178e-03, -8.7500e-03,  1.1721e-02,  9.3254e-03,  2.2480e-02,\n",
       "         -7.3149e-03,  1.2333e-02, -1.9812e-03,  4.8899e-03,  8.9512e-04,\n",
       "          3.4640e-02, -2.0294e-02, -2.2975e-02,  4.9504e-03,  7.0237e-03,\n",
       "          3.5012e-02,  3.3223e-03,  3.0436e-02, -8.9167e-03,  2.1845e-02,\n",
       "          2.5376e-02,  2.0039e-02,  3.3971e-02,  4.5349e-02,  1.6656e-02,\n",
       "          2.5684e-02, -1.2674e-02,  3.5884e-02, -1.1244e-02, -1.8146e-02,\n",
       "          1.1051e-02,  6.0026e-02, -1.7061e-02, -1.1891e-02,  3.1984e-02,\n",
       "          3.3098e-02,  4.7818e-02,  1.2849e-02,  3.4047e-04,  4.8469e-02,\n",
       "          7.6779e-03,  7.6166e-03,  1.1402e-02,  8.0031e-04,  5.0641e-02,\n",
       "         -2.0362e-02,  1.2010e-02, -8.3405e-03,  7.1662e-03, -3.3955e-02,\n",
       "         -4.7820e-02,  1.1849e-02,  2.7643e-02,  3.2524e-03,  1.8618e-02,\n",
       "          7.2138e-03, -3.1553e-02, -6.0453e-03,  6.5183e-03,  4.2677e-02,\n",
       "          9.3700e-03,  1.0787e-02, -2.3688e-02, -2.7507e-02,  4.5012e-02,\n",
       "          2.3495e-02,  8.8328e-04, -3.7402e-02, -2.7957e-02,  2.2806e-02,\n",
       "          4.2177e-02,  6.0885e-03, -2.0354e-02,  1.2095e-02, -4.0036e-02,\n",
       "          8.6751e-03, -3.3098e-03,  4.5116e-02, -1.2950e-02, -4.4919e-02,\n",
       "          4.9015e-02,  2.6640e-02,  3.2192e-02, -1.8476e-02, -1.2546e-02,\n",
       "         -2.4693e-02,  6.8108e-02, -1.0044e-03,  7.3184e-04,  1.2112e-02,\n",
       "          5.7908e-02,  4.4630e-02,  4.8605e-02, -1.4837e-02,  5.9479e-03,\n",
       "         -2.6536e-02,  3.8086e-02,  4.2665e-02, -2.7223e-02,  1.5430e-02,\n",
       "          6.9547e-02, -5.6122e-03, -5.8695e-03,  1.4212e-02, -7.3451e-03,\n",
       "         -1.5004e-02, -8.5702e-03, -1.4884e-02,  7.6425e-03, -1.1346e-02,\n",
       "          1.5294e-02,  1.9828e-02,  3.8021e-03,  5.9934e-02, -2.7727e-02,\n",
       "          2.2365e-02]])"
      ]
     },
     "execution_count": 17,
     "metadata": {},
     "output_type": "execute_result"
    }
   ],
   "source": [
    "proj_mean_cifar10"
   ]
  },
  {
   "cell_type": "code",
   "execution_count": null,
   "id": "7f7770d9-6c26-4571-a2f5-cef42128bdc6",
   "metadata": {},
   "outputs": [],
   "source": []
  }
 ],
 "metadata": {
  "kernelspec": {
   "display_name": "Python 3 (ipykernel)",
   "language": "python",
   "name": "python3"
  },
  "language_info": {
   "codemirror_mode": {
    "name": "ipython",
    "version": 3
   },
   "file_extension": ".py",
   "mimetype": "text/x-python",
   "name": "python",
   "nbconvert_exporter": "python",
   "pygments_lexer": "ipython3",
   "version": "3.8.13"
  }
 },
 "nbformat": 4,
 "nbformat_minor": 5
}
