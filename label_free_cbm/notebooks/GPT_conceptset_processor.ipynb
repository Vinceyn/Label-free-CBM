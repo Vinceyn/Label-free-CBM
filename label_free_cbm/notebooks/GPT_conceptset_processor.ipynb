{
 "cells": [
  {
   "cell_type": "code",
   "execution_count": 25,
   "id": "3aeb85e4-a684-4466-b92f-1b3afec781d5",
   "metadata": {},
   "outputs": [],
   "source": [
    "import sys\n",
    "sys.path.append('/home/gridsan/vyuan/.local/lib/python3.9/site-packages/')\n",
    "sys.path.append(\"../src\")"
   ]
  },
  {
   "cell_type": "code",
   "execution_count": 26,
   "id": "8eecb485-7dc5-441e-8d38-2221e75981ef",
   "metadata": {},
   "outputs": [],
   "source": [
    "import json\n",
    "\n",
    "from utils import data_utils\n",
    "from utils import conceptset_utils"
   ]
  },
  {
   "cell_type": "code",
   "execution_count": 3,
   "id": "b0b3bd09-dd34-48a9-ad11-83aa1904fde8",
   "metadata": {},
   "outputs": [],
   "source": [
    "from pathlib import Path\n",
    "root = Path.cwd().parent.parent\n",
    "\n",
    "import os\n",
    "os.chdir(root)"
   ]
  },
  {
   "cell_type": "code",
   "execution_count": 5,
   "id": "ec09e8bc-a9ca-4821-98e6-b1994493da22",
   "metadata": {},
   "outputs": [],
   "source": [
    "\"\"\"\n",
    "CLASS_SIM_CUTOFF: Concenpts with cos similarity higher than this to any class will be removed\n",
    "OTHER_SIM_CUTOFF: Concenpts with cos similarity higher than this to another concept will be removed\n",
    "MAX_LEN: max number of characters in a concept\n",
    "\n",
    "PRINT_PROB: what percentage of filtered concepts will be printed\n",
    "\"\"\"\n",
    "\n",
    "CLASS_SIM_CUTOFF = 0.85\n",
    "OTHER_SIM_CUTOFF = 0.9\n",
    "MAX_LEN = 30\n",
    "PRINT_PROB = 1\n",
    "\n",
    "dataset = \"doctor_nurse\"\n",
    "device = \"cuda\"\n",
    "\n",
    "save_name = \"data/concept_sets/{}_filtered_new.txt\".format(dataset)"
   ]
  },
  {
   "cell_type": "code",
   "execution_count": 17,
   "id": "8f98f951-32e8-40af-90d9-a06042126810",
   "metadata": {},
   "outputs": [],
   "source": [
    "#EDIT these to use the initial concept sets you want\n",
    "\n",
    "with open(root / \"data/concept_sets/gpt3_init/gpt3_{}_important_new.json\".format(dataset), \"r\") as f:\n",
    "    important_dict = json.load(f)\n",
    "with open(root / \"data/concept_sets/gpt3_init/gpt3_{}_superclass_new.json\".format(dataset), \"r\") as f:\n",
    "    superclass_dict = json.load(f)\n",
    "with open(root / \"data/concept_sets/gpt3_init/gpt3_{}_around_new.json\".format(dataset), \"r\") as f:\n",
    "    around_dict = json.load(f)\n",
    "with open(root / \"data/concept_sets/gpt3_init/gpt3_{}_job_new.json\".format(dataset), \"r\") as f:\n",
    "    job_dict = json.load(f)\n",
    "    \n",
    "with open(root / data_utils.LABEL_FILES[dataset], \"r\") as f:\n",
    "    classes = f.read().split(\"\\n\")"
   ]
  },
  {
   "cell_type": "code",
   "execution_count": 20,
   "id": "8da88093-b11f-4273-9599-5c986063e869",
   "metadata": {},
   "outputs": [
    {
     "name": "stdout",
     "output_type": "stream",
     "text": [
      "43\n"
     ]
    }
   ],
   "source": [
    "concepts = set()\n",
    "\n",
    "for values in important_dict.values():\n",
    "    concepts.update(set(values))\n",
    "\n",
    "for values in superclass_dict.values():\n",
    "    concepts.update(set(values))\n",
    "    \n",
    "for values in around_dict.values():\n",
    "    concepts.update(set(values))\n",
    "    \n",
    "for values in job_dict.values():\n",
    "    concepts.update(set(values))\n",
    "\n",
    "print(len(concepts))"
   ]
  },
  {
   "cell_type": "code",
   "execution_count": 21,
   "id": "b14c878e-d6f8-47fd-9322-85d14dfbdaa8",
   "metadata": {},
   "outputs": [
    {
     "name": "stdout",
     "output_type": "stream",
     "text": [
      "43 43\n"
     ]
    }
   ],
   "source": [
    "concepts = conceptset_utils.remove_too_long(concepts, MAX_LEN, PRINT_PROB)"
   ]
  },
  {
   "cell_type": "code",
   "execution_count": 22,
   "id": "d27e7a88-bdd4-49cb-b74d-fd16866eb5e0",
   "metadata": {},
   "outputs": [
    {
     "name": "stdout",
     "output_type": "stream",
     "text": [
      "43\n",
      "Class:doctor - Deleting a doctor\n",
      "Class:nurse - Deleting a nurse\n",
      "41\n",
      "Class:doctor - Concept:medical professional, sim:0.871 - Deleting medical professional\n",
      "\n",
      "40\n"
     ]
    }
   ],
   "source": [
    "concepts = conceptset_utils.filter_too_similar_to_cls(concepts, classes, CLASS_SIM_CUTOFF, device, PRINT_PROB)"
   ]
  },
  {
   "cell_type": "code",
   "execution_count": 23,
   "id": "3161dcfb-f9ec-4775-9b80-d8042c4f9f32",
   "metadata": {},
   "outputs": [
    {
     "name": "stdout",
     "output_type": "stream",
     "text": [
      "health care worker - healthcare worker , sim:0.9728 - Deleting healthcare worker\n",
      "39\n"
     ]
    }
   ],
   "source": [
    "concepts = conceptset_utils.filter_too_similar(concepts, OTHER_SIM_CUTOFF, device, PRINT_PROB)"
   ]
  },
  {
   "cell_type": "code",
   "execution_count": 24,
   "id": "6d7db95f-3391-4609-b3b4-96f234e972b0",
   "metadata": {},
   "outputs": [],
   "source": [
    "with open(save_name, \"w\") as f:\n",
    "    f.write(concepts[0])\n",
    "    for concept in concepts[1:]:\n",
    "        f.write(\"\\n\" + concept)"
   ]
  },
  {
   "cell_type": "code",
   "execution_count": null,
   "id": "e8d53e93-ba94-49ac-bc57-9d406617dc8b",
   "metadata": {},
   "outputs": [],
   "source": []
  }
 ],
 "metadata": {
  "kernelspec": {
   "display_name": "Python 3 (ipykernel)",
   "language": "python",
   "name": "python3"
  },
  "language_info": {
   "codemirror_mode": {
    "name": "ipython",
    "version": 3
   },
   "file_extension": ".py",
   "mimetype": "text/x-python",
   "name": "python",
   "nbconvert_exporter": "python",
   "pygments_lexer": "ipython3",
   "version": "3.9.15"
  }
 },
 "nbformat": 4,
 "nbformat_minor": 5
}
