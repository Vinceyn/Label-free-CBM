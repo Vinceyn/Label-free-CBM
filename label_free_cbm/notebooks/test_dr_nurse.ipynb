{
 "cells": [
  {
   "cell_type": "markdown",
   "metadata": {},
   "source": [
    "# Test the doctor and the nurse dataset, show plots and do some fairness computations"
   ]
  },
  {
   "cell_type": "markdown",
   "metadata": {},
   "source": [
    "## Import "
   ]
  },
  {
   "cell_type": "code",
   "execution_count": 1,
   "metadata": {},
   "outputs": [],
   "source": [
    "import sys\n",
    "sys.path.append(\"/home/gridsan/vyuan/.local/lib/python3.9/site-packages\")\n",
    "sys.path.append(\"../src\")"
   ]
  },
  {
   "cell_type": "code",
   "execution_count": 2,
   "metadata": {},
   "outputs": [],
   "source": [
    "import os\n",
    "import json\n",
    "from pathlib import Path\n",
    "\n",
    "import torch\n",
    "from torchvision import datasets, models, transforms\n",
    "\n",
    "from utils import data_utils\n",
    "from models import cbm\n",
    "from plots import plots"
   ]
  },
  {
   "cell_type": "code",
   "execution_count": 3,
   "metadata": {},
   "outputs": [],
   "source": [
    "root = Path.cwd().parent.parent\n",
    "os.chdir(root)"
   ]
  },
  {
   "cell_type": "markdown",
   "metadata": {},
   "source": [
    "## Choose the model and the dataset"
   ]
  },
  {
   "cell_type": "code",
   "execution_count": 4,
   "metadata": {},
   "outputs": [
    {
     "data": {
      "text/plain": [
       "CBM_model(\n",
       "  (backbone): Sequential(\n",
       "    (0): Sequential(\n",
       "      (0): Conv2d(3, 64, kernel_size=(11, 11), stride=(4, 4), padding=(2, 2))\n",
       "      (1): ReLU(inplace=True)\n",
       "      (2): MaxPool2d(kernel_size=3, stride=2, padding=0, dilation=1, ceil_mode=False)\n",
       "      (3): Conv2d(64, 192, kernel_size=(5, 5), stride=(1, 1), padding=(2, 2))\n",
       "      (4): ReLU(inplace=True)\n",
       "      (5): MaxPool2d(kernel_size=3, stride=2, padding=0, dilation=1, ceil_mode=False)\n",
       "      (6): Conv2d(192, 384, kernel_size=(3, 3), stride=(1, 1), padding=(1, 1))\n",
       "      (7): ReLU(inplace=True)\n",
       "      (8): Conv2d(384, 256, kernel_size=(3, 3), stride=(1, 1), padding=(1, 1))\n",
       "      (9): ReLU(inplace=True)\n",
       "      (10): Conv2d(256, 256, kernel_size=(3, 3), stride=(1, 1), padding=(1, 1))\n",
       "      (11): ReLU(inplace=True)\n",
       "      (12): MaxPool2d(kernel_size=3, stride=2, padding=0, dilation=1, ceil_mode=False)\n",
       "    )\n",
       "    (1): AdaptiveAvgPool2d(output_size=(1, 1))\n",
       "  )\n",
       "  (proj_layer): Linear(in_features=256, out_features=18, bias=False)\n",
       "  (final): Linear(in_features=18, out_features=2, bias=True)\n",
       ")"
      ]
     },
     "execution_count": 4,
     "metadata": {},
     "output_type": "execute_result"
    }
   ],
   "source": [
    "# Change this to the correct model dir, everything else should be taken care of\n",
    "load_dir = \"saved_models/doctor_nurse_gender_biased_doctor_nurse_with_gender_cbm_2023_06_12_00_06\"\n",
    "path_dataset = Path.cwd() / 'data' / 'datasets' / 'doctor_nurse_stratified' / 'full'\n",
    "device = \"cuda\"\n",
    "\n",
    "# Choose the different paths\n",
    "\n",
    "path_train = path_dataset / 'train'\n",
    "path_test = path_dataset / 'test'\n",
    "\n",
    "path_test_dr_m = path_test / 'doctors_male'\n",
    "path_test_dr_f = path_test / 'doctors_female'\n",
    "path_test_nur_m = path_test / 'nurses_male'\n",
    "path_test_nur_f = path_test / 'nurses_female'\n",
    "\n",
    "# Load the model\n",
    "with open(os.path.join(load_dir, \"args.txt\"), \"r\") as f:\n",
    "    args = json.load(f)\n",
    "dataset = args[\"dataset\"]\n",
    "target_model, target_preprocess = data_utils.get_target_model(args[\"backbone\"], device)\n",
    "model = cbm.load_cbm(load_dir, device)\n",
    "model.to(device)\n",
    "model.eval()"
   ]
  },
  {
   "cell_type": "markdown",
   "metadata": {},
   "source": [
    "## Creating the different dataloaders"
   ]
  },
  {
   "cell_type": "code",
   "execution_count": 5,
   "metadata": {},
   "outputs": [
    {
     "ename": "NameError",
     "evalue": "name 'ex' is not defined",
     "output_type": "error",
     "traceback": [
      "\u001b[0;31m---------------------------------------------------------------------------\u001b[0m",
      "\u001b[0;31mNameError\u001b[0m                                 Traceback (most recent call last)",
      "Cell \u001b[0;32mIn[5], line 20\u001b[0m\n\u001b[1;32m     16\u001b[0m \u001b[38;5;66;03m# For each class in your data...\u001b[39;00m\n\u001b[1;32m     17\u001b[0m \u001b[38;5;28;01mfor\u001b[39;00m i \u001b[38;5;129;01min\u001b[39;00m \u001b[38;5;28mrange\u001b[39m(\u001b[38;5;28mlen\u001b[39m(dataloader_full\u001b[38;5;241m.\u001b[39mclasses)):\n\u001b[1;32m     18\u001b[0m     \u001b[38;5;66;03m# Create a subset of your data that only includes images of this class\u001b[39;00m\n\u001b[1;32m     19\u001b[0m     subset \u001b[38;5;241m=\u001b[39m torch\u001b[38;5;241m.\u001b[39mutils\u001b[38;5;241m.\u001b[39mdata\u001b[38;5;241m.\u001b[39mSubset(\n\u001b[0;32m---> 20\u001b[0m         \u001b[43mex\u001b[49m,\n\u001b[1;32m     21\u001b[0m         [j \u001b[38;5;28;01mfor\u001b[39;00m j, target \u001b[38;5;129;01min\u001b[39;00m \u001b[38;5;28menumerate\u001b[39m(dataloader_full\u001b[38;5;241m.\u001b[39mtargets) \u001b[38;5;28;01mif\u001b[39;00m target \u001b[38;5;241m==\u001b[39m i]\n\u001b[1;32m     22\u001b[0m     )\n\u001b[1;32m     24\u001b[0m     \u001b[38;5;66;03m# Create a data loader for this subset of data\u001b[39;00m\n\u001b[1;32m     25\u001b[0m     dataloader \u001b[38;5;241m=\u001b[39m torch\u001b[38;5;241m.\u001b[39mutils\u001b[38;5;241m.\u001b[39mdata\u001b[38;5;241m.\u001b[39mDataLoader(subset, batch_size\u001b[38;5;241m=\u001b[39m\u001b[38;5;241m32\u001b[39m, shuffle\u001b[38;5;241m=\u001b[39m\u001b[38;5;28;01mTrue\u001b[39;00m)\n",
      "\u001b[0;31mNameError\u001b[0m: name 'ex' is not defined"
     ]
    }
   ],
   "source": [
    "data_transforms = {\n",
    "    'test': transforms.Compose([\n",
    "        transforms.Resize(256),\n",
    "        transforms.CenterCrop(224),\n",
    "        transforms.ToTensor(),\n",
    "        transforms.Normalize([0.485, 0.456, 0.406], [0.229, 0.224, 0.225])\n",
    "    ]),\n",
    "}\n",
    "\n",
    "# Create one dataloader with the 4 classes dr_f dr_m nur_f nur_m\n",
    "dataloader_full = datasets.ImageFolder(path_test, data_transforms['test'])\n",
    "\n",
    "# Initialize an empty dictionary to hold 4 data loaders, each one having one class\n",
    "dataloaders = {}\n",
    "\n",
    "# For each class in your data...\n",
    "for i in range(len(dataloader_full.classes)):\n",
    "    # Create a subset of your data that only includes images of this class\n",
    "    subset = torch.utils.data.Subset(\n",
    "        ex,\n",
    "        [j for j, target in enumerate(dataloader_full.targets) if target == i]\n",
    "    )\n",
    "\n",
    "    # Create a data loader for this subset of data\n",
    "    dataloader = torch.utils.data.DataLoader(subset, batch_size=32, shuffle=True)\n",
    "\n",
    "    # Add the data loader to your dictionary of data loaders\n",
    "    dataloaders[dataloader_full.classes[i]] = dataloader"
   ]
  },
  {
   "cell_type": "code",
   "execution_count": 25,
   "metadata": {},
   "outputs": [
    {
     "data": {
      "text/plain": [
       "{'doctors_female': <torch.utils.data.dataloader.DataLoader at 0x7f26800efaf0>,\n",
       " 'doctors_male': <torch.utils.data.dataloader.DataLoader at 0x7f265e85d610>,\n",
       " 'nurses_female': <torch.utils.data.dataloader.DataLoader at 0x7f27061cab80>,\n",
       " 'nurses_male': <torch.utils.data.dataloader.DataLoader at 0x7f265e84eb80>}"
      ]
     },
     "execution_count": 25,
     "metadata": {},
     "output_type": "execute_result"
    }
   ],
   "source": [
    "dataloaders"
   ]
  },
  {
   "cell_type": "markdown",
   "metadata": {},
   "source": [
    "## Computing the accuracies"
   ]
  },
  {
   "cell_type": "code",
   "execution_count": 26,
   "metadata": {},
   "outputs": [],
   "source": [
    "def get_exact_num_samples(dataloader):\n",
    "    num_samples = 0\n",
    "    for data in dataloader:\n",
    "        num_samples += data[0].shape[0]\n",
    "    return num_samples\n",
    "\n",
    "def compute_accuracy(model, dataloader, doctor):\n",
    "    target_class = 0 if doctor else 1\n",
    "    correct_preds = 0\n",
    "    #Class 0 is doctor, class 1 is nurse\n",
    "    for inputs, labels in dataloader:\n",
    "        inputs = inputs.to(device)\n",
    "        labels = labels.to(device)\n",
    "        outputs = model(inputs)\n",
    "        preds = torch.argmax(outputs[0], 1)\n",
    "        correct_preds += torch.sum(preds == target_class).item()\n",
    "\n",
    "    \n",
    "    return correct_preds / get_exact_num_samples(dataloader)"
   ]
  },
  {
   "cell_type": "code",
   "execution_count": 27,
   "metadata": {},
   "outputs": [],
   "source": [
    "acc_d_f = compute_accuracy(model, dataloaders['doctors_female'], True)\n",
    "acc_d_m = compute_accuracy(model, dataloaders['doctors_male'], True)\n",
    "acc_n_f = compute_accuracy(model, dataloaders['nurses_female'], False)\n",
    "acc_n_m = compute_accuracy(model, dataloaders['nurses_male'], False)"
   ]
  },
  {
   "cell_type": "code",
   "execution_count": 28,
   "metadata": {},
   "outputs": [
    {
     "data": {
      "image/png": "[encoded data removed]",
      "text/plain": [
       "<Figure size 800x800 with 4 Axes>"
      ]
     },
     "metadata": {},
     "output_type": "display_data"
    }
   ],
   "source": [
    "import matplotlib.pyplot as plt\n",
    "\n",
    "# Create a 2x2 grid of subplots\n",
    "fig, ax = plt.subplots(2, 2, figsize=(8, 8))\n",
    "\n",
    "# Set the title of the plot\n",
    "fig.suptitle('Accuracy by Gender and Profession')\n",
    "\n",
    "# Set the labels for the x and y axes\n",
    "ax[0, 0].set_ylabel('Doctor')\n",
    "ax[1, 0].set_ylabel('Nurse')\n",
    "ax[1, 0].set_xlabel('Male')\n",
    "ax[1, 1].set_xlabel('Female')\n",
    "\n",
    "# Set the values for each cell in the grid\n",
    "ax[0, 0].text(0.5, 0.5, f'{acc_d_m:.2f}', ha='center', va='center', fontsize=20)\n",
    "ax[0, 1].text(0.5, 0.5, f'{acc_d_f:.2f}', ha='center', va='center', fontsize=20)\n",
    "ax[1, 0].text(0.5, 0.5, f'{acc_n_m:.2f}', ha='center', va='center', fontsize=20)\n",
    "ax[1, 1].text(0.5, 0.5, f'{acc_n_f:.2f}', ha='center', va='center', fontsize=20)\n",
    "\n",
    "# Remove the ticks from the x and y axes\n",
    "for i in range(2):\n",
    "    for j in range(2):\n",
    "        ax[i, j].set_xticks([])\n",
    "        ax[i, j].set_yticks([])\n",
    "\n",
    "# Display the plot\n",
    "plt.show()\n"
   ]
  },
  {
   "cell_type": "code",
   "execution_count": null,
   "metadata": {},
   "outputs": [],
   "source": []
  }
 ],
 "metadata": {
  "kernelspec": {
   "display_name": "Python 3 (ipykernel)",
   "language": "python",
   "name": "python3"
  },
  "language_info": {
   "codemirror_mode": {
    "name": "ipython",
    "version": 3
   },
   "file_extension": ".py",
   "mimetype": "text/x-python",
   "name": "python",
   "nbconvert_exporter": "python",
   "pygments_lexer": "ipython3",
   "version": "3.9.15"
  }
 },
 "nbformat": 4,
 "nbformat_minor": 4
}
