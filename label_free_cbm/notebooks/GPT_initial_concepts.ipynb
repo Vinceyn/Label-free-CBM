{
 "cells": [
  {
   "cell_type": "code",
   "execution_count": 4,
   "id": "030e043f",
   "metadata": {},
   "outputs": [
    {
     "name": "stdout",
     "output_type": "stream",
     "text": [
      "asttokens @ file:///home/conda/feedstock_root/build_artifacts/asttokens_1670263926556/work\n",
      "conda-token @ file:///Users/paulyim/miniconda3/envs/c3i/conda-bld/conda-token_1662660369760/work\n",
      "tokenizers==0.13.3\n"
     ]
    }
   ],
   "source": [
    "!pip freeze | grep token"
   ]
  },
  {
   "cell_type": "code",
   "execution_count": 1,
   "id": "3d51a857-7a96-4ebc-91b2-073a84ccfa52",
   "metadata": {},
   "outputs": [],
   "source": [
    "import sys\n",
    "sys.path.append(\"/home/gridsan/vyuan/.local/lib/python3.9/site-packages\")\n",
    "sys.path.append(\"../src\")"
   ]
  },
  {
   "cell_type": "code",
   "execution_count": 2,
   "id": "6018f18e-78b8-42e4-8d33-265b5beafde7",
   "metadata": {},
   "outputs": [],
   "source": [
    "import os\n",
    "import json\n",
    "from pathlib import Path\n",
    "\n",
    "import openai\n",
    "\n",
    "from utils import data_utils\n",
    "\n",
    "root = Path.cwd().parent.parent"
   ]
  },
  {
   "cell_type": "code",
   "execution_count": 3,
   "id": "0c9685d3-f88b-4aaa-9f0a-e31504910400",
   "metadata": {},
   "outputs": [],
   "source": [
    "dataset = \"cifar10\"\n",
    "prompt_type = \"important\""
   ]
  },
  {
   "cell_type": "code",
   "execution_count": 4,
   "id": "aa4309fd-ee0b-4c84-9706-4c5a3e47654d",
   "metadata": {},
   "outputs": [],
   "source": [
    "openai.api_key = open(os.path.join(os.path.expanduser(\"~\"), \".openai_api_key\"), \"r\").read()[:-1]"
   ]
  },
  {
   "cell_type": "code",
   "execution_count": 5,
   "id": "a6fd600a-a7f0-4488-9360-09238b1a9305",
   "metadata": {},
   "outputs": [],
   "source": [
    "prompts = {\n",
    "    \"important\" : \"List the most important features for recognizing something as a \\\"goldfish\\\":\\n\\n-bright orange color\\n-a small, round body\\n-a long, flowing tail\\n-a small mouth\\n-orange fins\\n\\nList the most important features for recognizing something as a \\\"beerglass\\\":\\n\\n-a tall, cylindrical shape\\n-clear or translucent color\\n-opening at the top\\n-a sturdy base\\n-a handle\\n\\nList the most important features for recognizing something as a \\\"{}\\\":\",\n",
    "    \"superclass\" : \"Give superclasses for the word \\\"tench\\\":\\n\\n-fish\\n-vertebrate\\n-animal\\n\\nGive superclasses for the word \\\"beer glass\\\":\\n\\n-glass\\n-container\\n-object\\n\\nGive superclasses for the word \\\"{}\\\":\",\n",
    "    \"around\" : \"List the things most commonly seen around a \\\"tench\\\":\\n\\n- a pond\\n-fish\\n-a net\\n-a rod\\n-a reel\\n-a hook\\n-bait\\n\\nList the things most commonly seen around a \\\"beer glass\\\":\\n\\n- beer\\n-a bar\\n-a coaster\\n-a napkin\\n-a straw\\n-a lime\\n-a person\\n\\nList the things most commonly seen around a \\\"{}\\\":\"\n",
    "}\n",
    "\n",
    "base_prompt = prompts[prompt_type]"
   ]
  },
  {
   "cell_type": "code",
   "execution_count": 6,
   "id": "9c165e1b-1007-40d6-8676-35372223a58f",
   "metadata": {},
   "outputs": [
    {
     "data": {
      "text/plain": [
       "PosixPath('/home/gridsan/vyuan/Label-free-CBM/label_free_cbm/notebooks')"
      ]
     },
     "execution_count": 6,
     "metadata": {},
     "output_type": "execute_result"
    }
   ],
   "source": [
    "Path.cwd()"
   ]
  },
  {
   "cell_type": "code",
   "execution_count": 7,
   "id": "57ac8873-5b7f-4458-aef0-09278664b05a",
   "metadata": {},
   "outputs": [],
   "source": [
    "cls_file = data_utils.LABEL_FILES[dataset]\n",
    "with open(root / cls_file, \"r\") as f:\n",
    "    classes = f.read().split(\"\\n\")"
   ]
  },
  {
   "cell_type": "code",
   "execution_count": 12,
   "id": "05f19306-ecdd-4d5b-9556-d8b8b7930eac",
   "metadata": {},
   "outputs": [
    {
     "name": "stdout",
     "output_type": "stream",
     "text": [
      "\n",
      " 0 airplane\n",
      "\n",
      " 1 automobile\n",
      "\n",
      " 2 bird\n",
      "\n",
      " 3 cat\n",
      "\n",
      " 4 deer\n",
      "\n",
      " 5 dog\n",
      "\n",
      " 6 frog\n",
      "\n",
      " 7 horse\n",
      "\n",
      " 8 ship\n",
      "\n",
      " 9 truck\n"
     ]
    }
   ],
   "source": [
    "feature_dict = {}\n",
    "\n",
    "for i, label in enumerate(classes):\n",
    "    feature_dict[label] = set()\n",
    "    print(\"\\n\", i, label)\n",
    "    for _ in range(2):\n",
    "        response = openai.Completion.create(\n",
    "              model=\"text-davinci-002\",\n",
    "              prompt=base_prompt.format(label),\n",
    "              temperature=0.7,\n",
    "              max_tokens=256,\n",
    "              top_p=1,\n",
    "              frequency_penalty=0,\n",
    "              presence_penalty=0\n",
    "            )\n",
    "        #clean up responses\n",
    "        features = response[\"choices\"][0][\"text\"]\n",
    "        features = features.split(\"\\n-\")\n",
    "        features = [feat.replace(\"\\n\", \"\") for feat in features]\n",
    "        features = [feat.strip() for feat in features]\n",
    "        features = [feat for feat in features if len(feat)>0]\n",
    "        features = set(features)\n",
    "        feature_dict[label].update(features)\n",
    "    feature_dict[label] = sorted(list(feature_dict[label]))"
   ]
  },
  {
   "cell_type": "code",
   "execution_count": 13,
   "id": "a29f888f",
   "metadata": {},
   "outputs": [
    {
     "data": {
      "text/plain": [
       "{'airplane': ['a large, metal body',\n",
       "  'a tail',\n",
       "  'a tail with a horizontal stabilizer',\n",
       "  'engines',\n",
       "  'engines attached to the wings',\n",
       "  'landing gear',\n",
       "  'two wings',\n",
       "  'wings'],\n",
       " 'automobile': ['a car-like body',\n",
       "  'a metal body',\n",
       "  'a steering wheel and dashboard inside',\n",
       "  'a steering wheel in the front',\n",
       "  'doors on the sides',\n",
       "  'four metal plates that serve as wheels',\n",
       "  'four rubber or plastic tires',\n",
       "  'headlights and taillights',\n",
       "  'windows all around'],\n",
       " 'bird': ['a beak',\n",
       "  'a tail',\n",
       "  'ability to fly',\n",
       "  'feathers',\n",
       "  'legs',\n",
       "  'two legs',\n",
       "  'wings'],\n",
       " 'cat': ['a long tail',\n",
       "  'a small or medium-sized body',\n",
       "  'a small to medium sized body',\n",
       "  'four legs',\n",
       "  'furry coat',\n",
       "  'pointed ears',\n",
       "  'whiskers'],\n",
       " 'deer': ['a brown or reddish coat',\n",
       "  'a compact body',\n",
       "  'a long neck',\n",
       "  'a long nose',\n",
       "  'a tail',\n",
       "  'a white tail',\n",
       "  'antlers',\n",
       "  'large antlers',\n",
       "  'long legs',\n",
       "  'long, slender legs'],\n",
       " 'dog': ['a face with two eyes, a nose, and a mouth',\n",
       "  'a four-legged animal',\n",
       "  'a mammalian body',\n",
       "  'a snout',\n",
       "  'a tail',\n",
       "  'fur',\n",
       "  'pointed ears'],\n",
       " 'frog': ['a green or brown body',\n",
       "  'a small, green body',\n",
       "  'a wide mouth',\n",
       "  'large eyes',\n",
       "  'large, bulging eyes',\n",
       "  'long hind legs for jumping',\n",
       "  'long, powerful legs',\n",
       "  'webbed feet'],\n",
       " 'horse': ['a head with large eyes, nostrils, and ears',\n",
       "  'a large body',\n",
       "  'a large, muscular body',\n",
       "  'a long head',\n",
       "  'a long mane and tail',\n",
       "  'a mane',\n",
       "  'a tail',\n",
       "  'four legs',\n",
       "  'hooves'],\n",
       " 'ship': ['a deck',\n",
       "  'a hull',\n",
       "  'a large size',\n",
       "  'a sleek, aerodynamic shape',\n",
       "  'large size',\n",
       "  'mast(s)',\n",
       "  'one or more decks',\n",
       "  'one or more masts',\n",
       "  'one or more sails',\n",
       "  'sail(s)'],\n",
       " 'truck': ['a bed for hauling cargo',\n",
       "  'a cab for the driver',\n",
       "  'a cargo area',\n",
       "  'a front grille',\n",
       "  'a large, boxy body',\n",
       "  'a powerful engine',\n",
       "  'four wheels']}"
      ]
     },
     "execution_count": 13,
     "metadata": {},
     "output_type": "execute_result"
    }
   ],
   "source": [
    "feature_dict"
   ]
  },
  {
   "cell_type": "code",
   "execution_count": 15,
   "id": "c033c81e-530b-4b62-967c-722f90636187",
   "metadata": {},
   "outputs": [],
   "source": [
    "json_object = json.dumps(feature_dict, indent=4)\n",
    "with open(root / \"data/concept_sets/gpt3_init/gpt3_{}_{}_new.json\".format(dataset, prompt_type), \"w\") as outfile:\n",
    "    outfile.write(json_object)"
   ]
  },
  {
   "cell_type": "code",
   "execution_count": 16,
   "id": "3b73ed6a",
   "metadata": {},
   "outputs": [
    {
     "data": {
      "text/plain": [
       "'{\\n    \"airplane\": [\\n        \"a large, metal body\",\\n        \"a tail\",\\n        \"a tail with a horizontal stabilizer\",\\n        \"engines\",\\n        \"engines attached to the wings\",\\n        \"landing gear\",\\n        \"two wings\",\\n        \"wings\"\\n    ],\\n    \"automobile\": [\\n        \"a car-like body\",\\n        \"a metal body\",\\n        \"a steering wheel and dashboard inside\",\\n        \"a steering wheel in the front\",\\n        \"doors on the sides\",\\n        \"four metal plates that serve as wheels\",\\n        \"four rubber or plastic tires\",\\n        \"headlights and taillights\",\\n        \"windows all around\"\\n    ],\\n    \"bird\": [\\n        \"a beak\",\\n        \"a tail\",\\n        \"ability to fly\",\\n        \"feathers\",\\n        \"legs\",\\n        \"two legs\",\\n        \"wings\"\\n    ],\\n    \"cat\": [\\n        \"a long tail\",\\n        \"a small or medium-sized body\",\\n        \"a small to medium sized body\",\\n        \"four legs\",\\n        \"furry coat\",\\n        \"pointed ears\",\\n        \"whiskers\"\\n    ],\\n    \"deer\": [\\n        \"a brown or reddish coat\",\\n        \"a compact body\",\\n        \"a long neck\",\\n        \"a long nose\",\\n        \"a tail\",\\n        \"a white tail\",\\n        \"antlers\",\\n        \"large antlers\",\\n        \"long legs\",\\n        \"long, slender legs\"\\n    ],\\n    \"dog\": [\\n        \"a face with two eyes, a nose, and a mouth\",\\n        \"a four-legged animal\",\\n        \"a mammalian body\",\\n        \"a snout\",\\n        \"a tail\",\\n        \"fur\",\\n        \"pointed ears\"\\n    ],\\n    \"frog\": [\\n        \"a green or brown body\",\\n        \"a small, green body\",\\n        \"a wide mouth\",\\n        \"large eyes\",\\n        \"large, bulging eyes\",\\n        \"long hind legs for jumping\",\\n        \"long, powerful legs\",\\n        \"webbed feet\"\\n    ],\\n    \"horse\": [\\n        \"a head with large eyes, nostrils, and ears\",\\n        \"a large body\",\\n        \"a large, muscular body\",\\n        \"a long head\",\\n        \"a long mane and tail\",\\n        \"a mane\",\\n        \"a tail\",\\n        \"four legs\",\\n        \"hooves\"\\n    ],\\n    \"ship\": [\\n        \"a deck\",\\n        \"a hull\",\\n        \"a large size\",\\n        \"a sleek, aerodynamic shape\",\\n        \"large size\",\\n        \"mast(s)\",\\n        \"one or more decks\",\\n        \"one or more masts\",\\n        \"one or more sails\",\\n        \"sail(s)\"\\n    ],\\n    \"truck\": [\\n        \"a bed for hauling cargo\",\\n        \"a cab for the driver\",\\n        \"a cargo area\",\\n        \"a front grille\",\\n        \"a large, boxy body\",\\n        \"a powerful engine\",\\n        \"four wheels\"\\n    ]\\n}'"
      ]
     },
     "execution_count": 16,
     "metadata": {},
     "output_type": "execute_result"
    }
   ],
   "source": [
    "json_object"
   ]
  },
  {
   "cell_type": "code",
   "execution_count": null,
   "id": "2f1db9b8",
   "metadata": {},
   "outputs": [],
   "source": []
  }
 ],
 "metadata": {
  "kernelspec": {
   "display_name": "Python 3 (ipykernel)",
   "language": "python",
   "name": "python3"
  },
  "language_info": {
   "codemirror_mode": {
    "name": "ipython",
    "version": 3
   },
   "file_extension": ".py",
   "mimetype": "text/x-python",
   "name": "python",
   "nbconvert_exporter": "python",
   "pygments_lexer": "ipython3",
   "version": "3.9.15"
  }
 },
 "nbformat": 4,
 "nbformat_minor": 5
}
