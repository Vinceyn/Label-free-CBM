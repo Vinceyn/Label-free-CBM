{
 "cells": [
  {
   "cell_type": "code",
   "execution_count": 2,
   "id": "4a253279-dc33-4116-8ab3-11b1374c6d00",
   "metadata": {},
   "outputs": [],
   "source": [
    "import os\n",
    "import random\n",
    "import shutil\n",
    "import random\n",
    "from pathlib import Path"
   ]
  },
  {
   "cell_type": "code",
   "execution_count": 3,
   "id": "25920568-de36-4a1a-9095-3be7c97c3da0",
   "metadata": {},
   "outputs": [],
   "source": [
    "# Define paths for training and validation sets for doctors and nurses\n",
    "\n",
    "path_folder = Path.cwd() / \"gender_biased_dataset\" \n",
    "\n",
    "train_path_dr, val_path_dr = path_folder / \"train/doctors\", path_folder / \"test/doctors\"\n",
    "os.makedirs(train_path_dr, exist_ok=True)\n",
    "os.makedirs(val_path_dr, exist_ok=True)\n",
    "\n",
    "train_path_nur, val_path_nur = path_folder / \"train/nurses\", path_folder/ \"test/nurses\"\n",
    "os.makedirs(train_path_nur, exist_ok=True)\n",
    "os.makedirs(val_path_nur, exist_ok=True)\n",
    "\n",
    "# Define paths for different images of doctors and nurses\n",
    "path_dr_f_d = 'dr/fem_dr_dark_56/'\n",
    "path_dr_f_l = 'dr/fem_dr_light_256/'\n",
    "path_dr_m_d = 'dr/mal_dr_dark_62/'\n",
    "path_dr_m_l = 'dr/mal_dr_light_308/'\n",
    "\n",
    "# Get the list of images in each directory\n",
    "dr_f_d = os.listdir(path_dr_f_d)\n",
    "dr_f_l = os.listdir(path_dr_f_l)\n",
    "dr_m_d = os.listdir(path_dr_m_d)\n",
    "dr_m_l = os.listdir(path_dr_m_l)\n",
    "\n",
    "path_nur_f_d = 'nurse/fem_nurse_dark_63/'\n",
    "path_nur_f_l = 'nurse/fem_nurse_light_252/'\n",
    "path_nur_m_d = 'nurse/mal_nurse_dark_76/'\n",
    "path_nur_m_l = 'nurse/mal_nurse_light_203/'\n",
    "\n",
    "nur_f_d = os.listdir(path_nur_f_d)\n",
    "nur_f_l = os.listdir(path_nur_f_l)\n",
    "nur_m_d = os.listdir(path_nur_m_d)\n",
    "nur_m_l = os.listdir(path_nur_m_l)"
   ]
  },
  {
   "cell_type": "code",
   "execution_count": null,
   "id": "48539d04-0671-4196-a6d7-6d8cc81ee468",
   "metadata": {},
   "outputs": [],
   "source": []
  },
  {
   "cell_type": "code",
   "execution_count": 4,
   "id": "543ac4b1-c2f6-495a-94dc-70f379c35594",
   "metadata": {},
   "outputs": [],
   "source": [
    "# Define the split ratio for the training/validation set\n",
    "split= 0.25\n",
    "\n",
    "# Calculate the number of male and female doctors\n",
    "dr_m = (len(dr_m_d) + len(dr_m_l))\n",
    "dr_f = (len(dr_f_d) + len(dr_f_l))\n",
    "dr = dr_m + dr_f\n",
    "\n",
    "# Calculate the ratio of male and female doctors\n",
    "r_dr_m = dr_m /dr\n",
    "r_dr_w = 1 - r_dr_m\n",
    "\n",
    "# Calculate the number of male and female nurses\n",
    "nur_m = (len(nur_m_d) + len(nur_m_l))\n",
    "nur_f = (len(nur_f_d) + len(nur_f_l))\n",
    "nur = nur_m + nur_f\n",
    "\n",
    "# Calculate the ratio of male and female nurses\n",
    "r_nur_m = nur_m /nur\n",
    "r_nur_w = 1 - r_nur_m"
   ]
  },
  {
   "cell_type": "code",
   "execution_count": 9,
   "id": "722de924-338e-4d2a-84e4-19edc92a3f61",
   "metadata": {},
   "outputs": [],
   "source": [
    "# Define the validation set for male doctors\n",
    "val_dr_m = set(random.sample(list(range(dr_m)), int(dr_m * split))) # Select a random subset of male doctors to be in the validation set\n",
    "\n",
    "# Copy the images of male doctors to the training or validation set\n",
    "for i in range(dr_m):\n",
    "    index = i if i<len(dr_m_d) else i - len(dr_m_d)\n",
    "    src = path_dr_m_d + dr_m_d[index] if i == index else path_dr_m_l + dr_m_l[index]\n",
    "    dest = val_path_dr if i in val_dr_m else train_path_dr\n",
    "    shutil.copy(src, dest)\n",
    "\n",
    "# Define the validation set for female nurses\n",
    "val_nur_f = set(random.sample(list(range(nur_f)), int(nur_f * split))) # Select a random subset of female nurses to be in the validation set\n",
    "\n",
    "# Copy the images of female nurses to the training or validation set\n",
    "for i in range(nur_f):\n",
    "    index = i if i<len(nur_f_d) else i - len(nur_f_d)\n",
    "    src = path_nur_f_d + nur_f_d[index] if i == index else path_nur_f_l + nur_f_l[index]\n",
    "    dest = val_path_nur if i in val_nur_f else train_path_nur\n",
    "    shutil.copy(src, dest)"
   ]
  },
  {
   "cell_type": "code",
   "execution_count": 11,
   "id": "88f1348f-4584-4240-b022-2c31884365c1",
   "metadata": {},
   "outputs": [],
   "source": [
    "# Check size of trained dataset \n",
    "path_my_biased_dataset = Path.cwd() / \"train_test_split\" / \"train_1\"\n",
    "\n",
    "def count_files(folder_path):\n",
    "    file_count = 0\n",
    "\n",
    "    # Iterate over all the files and directories in the specified folder\n",
    "    for _, _, files in os.walk(folder_path):\n",
    "        file_count += len(files)\n",
    "\n",
    "    return file_count"
   ]
  },
  {
   "cell_type": "code",
   "execution_count": 15,
   "id": "30186814-2d5e-4c78-8b2d-470cf763eeeb",
   "metadata": {},
   "outputs": [
    {
     "data": {
      "text/plain": [
       "292"
      ]
     },
     "execution_count": 15,
     "metadata": {},
     "output_type": "execute_result"
    }
   ],
   "source": [
    "count_files(path_my_biased_dataset / \"nurses\")"
   ]
  },
  {
   "cell_type": "code",
   "execution_count": 16,
   "id": "f883d409-56c3-4c21-b78d-e06db5718343",
   "metadata": {},
   "outputs": [
    {
     "data": {
      "text/plain": [
       "295"
      ]
     },
     "execution_count": 16,
     "metadata": {},
     "output_type": "execute_result"
    }
   ],
   "source": [
    "nur_f"
   ]
  },
  {
   "cell_type": "code",
   "execution_count": null,
   "id": "97d84900-c5a8-4a51-a892-646689cefb7f",
   "metadata": {},
   "outputs": [],
   "source": []
  }
 ],
 "metadata": {
  "kernelspec": {
   "display_name": "Python 3 (ipykernel)",
   "language": "python",
   "name": "python3"
  },
  "language_info": {
   "codemirror_mode": {
    "name": "ipython",
    "version": 3
   },
   "file_extension": ".py",
   "mimetype": "text/x-python",
   "name": "python",
   "nbconvert_exporter": "python",
   "pygments_lexer": "ipython3",
   "version": "3.9.16"
  }
 },
 "nbformat": 4,
 "nbformat_minor": 5
}
